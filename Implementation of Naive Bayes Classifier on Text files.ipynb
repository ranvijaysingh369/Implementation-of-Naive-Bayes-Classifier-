{
 "cells": [
  {
   "cell_type": "markdown",
   "metadata": {},
   "source": [
    "# Project Implementation using Naive Bayes Classifier"
   ]
  },
  {
   "cell_type": "markdown",
   "metadata": {},
   "source": [
    "## Step 01: Import Libraries"
   ]
  },
  {
   "cell_type": "code",
   "execution_count": 1,
   "metadata": {},
   "outputs": [],
   "source": [
    "import matplotlib.pyplot as plt\n",
    "import numpy as np\n",
    "import pandas as pd\n",
    "import time\n",
    "import datetime\n",
    "from scipy import stats\n",
    "import matplotlib\n",
    "import re\n",
    "import string\n",
    "import scipy\n",
    "import pickle \n",
    "import pandas as pd\n",
    "import numpy as np\n",
    "import nltk\n",
    "import os\n",
    "import glob\n",
    "import numpy as np\n",
    "from sklearn.feature_extraction.text import CountVectorizer\n",
    "import seaborn as sns\n",
    "import matplotlib.pyplot as plt\n",
    "from sklearn.feature_extraction.text import TfidfVectorizer\n",
    "from sklearn.naive_bayes import MultinomialNB\n",
    "from sklearn.pipeline import make_pipeline\n",
    "from sklearn.metrics import confusion_matrix, accuracy_score\n",
    "sns.set() \n",
    "from sklearn.feature_extraction.text import TfidfTransformer\n",
    "from sklearn.naive_bayes import MultinomialNB\n",
    "from sklearn.pipeline import Pipeline"
   ]
  },
  {
   "cell_type": "markdown",
   "metadata": {},
   "source": [
    "## Data Exploration"
   ]
  },
  {
   "cell_type": "markdown",
   "metadata": {},
   "source": [
    "### Explore technology files and convert into dataframe"
   ]
  },
  {
   "cell_type": "code",
   "execution_count": null,
   "metadata": {},
   "outputs": [],
   "source": [
    "tech=r\".\\dataset\\technology\"\n",
    "files=sorted(glob.glob(os.path.join(tech,\"*.txt\")))\n",
    "tech_text_corpus=[]\n",
    "for t in files:\n",
    "    with open(t,encoding='utf-8') as f:\n",
    "     \n",
    "        tech_text_corpus.append(f.read().replace('\\n',' ').replace(',',''))\n",
    "jointext=' '.join(tech_text_corpus)\n",
    "\n",
    "technology=pd.DataFrame(columns=[\"TEXT\",\"CATEGORY\"],index=np.arange(len(tech_text_corpus)))\n",
    "\n",
    "for i in range(0,len(tech_text_corpus)):\n",
    "    technology[\"CATEGORY\"][i]=\"technology\"\n",
    "    technology[\"TEXT\"][i]=tech_text_corpus[i]\n",
    "    \n",
    "technology.head()"
   ]
  },
  {
   "cell_type": "markdown",
   "metadata": {},
   "source": [
    "### Explore Sports files and convert into dataframe"
   ]
  },
  {
   "cell_type": "code",
   "execution_count": 5,
   "metadata": {},
   "outputs": [
    {
     "data": {
      "text/html": [
       "<div>\n",
       "<style scoped>\n",
       "    .dataframe tbody tr th:only-of-type {\n",
       "        vertical-align: middle;\n",
       "    }\n",
       "\n",
       "    .dataframe tbody tr th {\n",
       "        vertical-align: top;\n",
       "    }\n",
       "\n",
       "    .dataframe thead th {\n",
       "        text-align: right;\n",
       "    }\n",
       "</style>\n",
       "<table border=\"1\" class=\"dataframe\">\n",
       "  <thead>\n",
       "    <tr style=\"text-align: right;\">\n",
       "      <th></th>\n",
       "      <th>TEXT</th>\n",
       "      <th>CATEGORY</th>\n",
       "    </tr>\n",
       "  </thead>\n",
       "  <tbody>\n",
       "    <tr>\n",
       "      <th>0</th>\n",
       "      <td>bosvelt optimistic over new deal manchester ci...</td>\n",
       "      <td>sports</td>\n",
       "    </tr>\n",
       "    <tr>\n",
       "      <th>1</th>\n",
       "      <td>parry firm over gerrard listen to the full int...</td>\n",
       "      <td>sports</td>\n",
       "    </tr>\n",
       "    <tr>\n",
       "      <th>2</th>\n",
       "      <td>england given tough sevens draw england will h...</td>\n",
       "      <td>sports</td>\n",
       "    </tr>\n",
       "    <tr>\n",
       "      <th>3</th>\n",
       "      <td>newcastle 27-27 gloucester newcastle centre ma...</td>\n",
       "      <td>sports</td>\n",
       "    </tr>\n",
       "    <tr>\n",
       "      <th>4</th>\n",
       "      <td>qpr keeper day heads for preston queens park r...</td>\n",
       "      <td>sports</td>\n",
       "    </tr>\n",
       "  </tbody>\n",
       "</table>\n",
       "</div>"
      ],
      "text/plain": [
       "                                                TEXT CATEGORY\n",
       "0  bosvelt optimistic over new deal manchester ci...   sports\n",
       "1  parry firm over gerrard listen to the full int...   sports\n",
       "2  england given tough sevens draw england will h...   sports\n",
       "3  newcastle 27-27 gloucester newcastle centre ma...   sports\n",
       "4  qpr keeper day heads for preston queens park r...   sports"
      ]
     },
     "execution_count": 5,
     "metadata": {},
     "output_type": "execute_result"
    }
   ],
   "source": [
    "sport=r\".\\dataset\\sports\"\n",
    "files=sorted(glob.glob(os.path.join(sport,\"*.txt\")))\n",
    "sports_text_corpus=[]\n",
    "for s in files:\n",
    "    with open(s,encoding='utf-8') as f:\n",
    "     \n",
    "        sports_text_corpus.append(f.read().replace('\\n',' ').replace(',',''))\n",
    "jointext=' '.join(sports_text_corpus)\n",
    "\n",
    "sports=pd.DataFrame(columns=[\"TEXT\",\"CATEGORY\"],index=np.arange(len(sports_text_corpus)))\n",
    "\n",
    "for i in range(0,len(sports_text_corpus)):\n",
    "    sports[\"CATEGORY\"][i]=\"sports\"\n",
    "    sports[\"TEXT\"][i]=sports_text_corpus[i]\n",
    "    \n",
    "sports.head()"
   ]
  },
  {
   "cell_type": "markdown",
   "metadata": {},
   "source": [
    "### Explore entertainment files and convert into dataframe"
   ]
  },
  {
   "cell_type": "code",
   "execution_count": 6,
   "metadata": {},
   "outputs": [
    {
     "data": {
      "text/html": [
       "<div>\n",
       "<style scoped>\n",
       "    .dataframe tbody tr th:only-of-type {\n",
       "        vertical-align: middle;\n",
       "    }\n",
       "\n",
       "    .dataframe tbody tr th {\n",
       "        vertical-align: top;\n",
       "    }\n",
       "\n",
       "    .dataframe thead th {\n",
       "        text-align: right;\n",
       "    }\n",
       "</style>\n",
       "<table border=\"1\" class=\"dataframe\">\n",
       "  <thead>\n",
       "    <tr style=\"text-align: right;\">\n",
       "      <th></th>\n",
       "      <th>TEXT</th>\n",
       "      <th>CATEGORY</th>\n",
       "    </tr>\n",
       "  </thead>\n",
       "  <tbody>\n",
       "    <tr>\n",
       "      <th>0</th>\n",
       "      <td>career honour for actor dicaprio actor leonard...</td>\n",
       "      <td>entertainment</td>\n",
       "    </tr>\n",
       "    <tr>\n",
       "      <th>1</th>\n",
       "      <td>row threatens hendrix museum plan proposals to...</td>\n",
       "      <td>entertainment</td>\n",
       "    </tr>\n",
       "    <tr>\n",
       "      <th>2</th>\n",
       "      <td>show over for mtv s the osbournes rock star oz...</td>\n",
       "      <td>entertainment</td>\n",
       "    </tr>\n",
       "    <tr>\n",
       "      <th>3</th>\n",
       "      <td>celebrities get their skates on former england...</td>\n",
       "      <td>entertainment</td>\n",
       "    </tr>\n",
       "    <tr>\n",
       "      <th>4</th>\n",
       "      <td>franz man seeks government help franz ferdinan...</td>\n",
       "      <td>entertainment</td>\n",
       "    </tr>\n",
       "  </tbody>\n",
       "</table>\n",
       "</div>"
      ],
      "text/plain": [
       "                                                TEXT       CATEGORY\n",
       "0  career honour for actor dicaprio actor leonard...  entertainment\n",
       "1  row threatens hendrix museum plan proposals to...  entertainment\n",
       "2  show over for mtv s the osbournes rock star oz...  entertainment\n",
       "3  celebrities get their skates on former england...  entertainment\n",
       "4  franz man seeks government help franz ferdinan...  entertainment"
      ]
     },
     "execution_count": 6,
     "metadata": {},
     "output_type": "execute_result"
    }
   ],
   "source": [
    "entertain=r\".\\dataset\\entertainment\"\n",
    "files=sorted(glob.glob(os.path.join(entertain,\"*.txt\")))\n",
    "entertainment_text_corpus=[]\n",
    "for e in files:\n",
    "    with open(e,encoding='utf-8') as f:\n",
    "     \n",
    "        entertainment_text_corpus.append(f.read().replace('\\n',' ').replace(',',''))\n",
    "jointext=' '.join(entertainment_text_corpus)\n",
    "\n",
    "entertainment=pd.DataFrame(columns=[\"TEXT\",\"CATEGORY\"],index=np.arange(len(entertainment_text_corpus)))\n",
    "\n",
    "for i in range(0,len(entertainment_text_corpus)):\n",
    "    entertainment[\"CATEGORY\"][i]=\"entertainment\"\n",
    "    entertainment[\"TEXT\"][i]=entertainment_text_corpus[i]\n",
    "    \n",
    "entertainment.head()"
   ]
  },
  {
   "cell_type": "markdown",
   "metadata": {},
   "source": [
    "### Explore Business files and convert into dataframe"
   ]
  },
  {
   "cell_type": "code",
   "execution_count": 7,
   "metadata": {},
   "outputs": [
    {
     "data": {
      "text/html": [
       "<div>\n",
       "<style scoped>\n",
       "    .dataframe tbody tr th:only-of-type {\n",
       "        vertical-align: middle;\n",
       "    }\n",
       "\n",
       "    .dataframe tbody tr th {\n",
       "        vertical-align: top;\n",
       "    }\n",
       "\n",
       "    .dataframe thead th {\n",
       "        text-align: right;\n",
       "    }\n",
       "</style>\n",
       "<table border=\"1\" class=\"dataframe\">\n",
       "  <thead>\n",
       "    <tr style=\"text-align: right;\">\n",
       "      <th></th>\n",
       "      <th>TEXT</th>\n",
       "      <th>CATEGORY</th>\n",
       "    </tr>\n",
       "  </thead>\n",
       "  <tbody>\n",
       "    <tr>\n",
       "      <th>0</th>\n",
       "      <td>worldcom boss  left books alone  former worldc...</td>\n",
       "      <td>business</td>\n",
       "    </tr>\n",
       "    <tr>\n",
       "      <th>1</th>\n",
       "      <td>crude oil prices back above $50 cold weather a...</td>\n",
       "      <td>business</td>\n",
       "    </tr>\n",
       "    <tr>\n",
       "      <th>2</th>\n",
       "      <td>s korean credit card firm rescued south korea ...</td>\n",
       "      <td>business</td>\n",
       "    </tr>\n",
       "    <tr>\n",
       "      <th>3</th>\n",
       "      <td>japanese banking battle at an end japan s sumi...</td>\n",
       "      <td>business</td>\n",
       "    </tr>\n",
       "    <tr>\n",
       "      <th>4</th>\n",
       "      <td>insurance bosses plead guilty another three us...</td>\n",
       "      <td>business</td>\n",
       "    </tr>\n",
       "  </tbody>\n",
       "</table>\n",
       "</div>"
      ],
      "text/plain": [
       "                                                TEXT  CATEGORY\n",
       "0  worldcom boss  left books alone  former worldc...  business\n",
       "1  crude oil prices back above $50 cold weather a...  business\n",
       "2  s korean credit card firm rescued south korea ...  business\n",
       "3  japanese banking battle at an end japan s sumi...  business\n",
       "4  insurance bosses plead guilty another three us...  business"
      ]
     },
     "execution_count": 7,
     "metadata": {},
     "output_type": "execute_result"
    }
   ],
   "source": [
    "busines=r\".\\dataset\\business\"\n",
    "files=sorted(glob.glob(os.path.join(busines,\"*.txt\")))\n",
    "business_text_corpus=[]\n",
    "for b in files:\n",
    "    with open(b,encoding='utf-8') as f:\n",
    "     \n",
    "        business_text_corpus.append(f.read().replace('\\n',' ').replace(',',''))\n",
    "jointext=' '.join(business_text_corpus)\n",
    "\n",
    "business=pd.DataFrame(columns=[\"TEXT\",\"CATEGORY\"],index=np.arange(len(business_text_corpus)))\n",
    "\n",
    "for i in range(0,len(business_text_corpus)):\n",
    "    business[\"CATEGORY\"][i]=\"business\"\n",
    "    business[\"TEXT\"][i]=business_text_corpus[i]\n",
    "    \n",
    "business.head()"
   ]
  },
  {
   "cell_type": "markdown",
   "metadata": {},
   "source": [
    "### Explore politics files and convert into dataframe"
   ]
  },
  {
   "cell_type": "code",
   "execution_count": 11,
   "metadata": {},
   "outputs": [
    {
     "data": {
      "text/html": [
       "<div>\n",
       "<style scoped>\n",
       "    .dataframe tbody tr th:only-of-type {\n",
       "        vertical-align: middle;\n",
       "    }\n",
       "\n",
       "    .dataframe tbody tr th {\n",
       "        vertical-align: top;\n",
       "    }\n",
       "\n",
       "    .dataframe thead th {\n",
       "        text-align: right;\n",
       "    }\n",
       "</style>\n",
       "<table border=\"1\" class=\"dataframe\">\n",
       "  <thead>\n",
       "    <tr style=\"text-align: right;\">\n",
       "      <th></th>\n",
       "      <th>TEXT</th>\n",
       "      <th>CATEGORY</th>\n",
       "    </tr>\n",
       "  </thead>\n",
       "  <tbody>\n",
       "    <tr>\n",
       "      <th>0</th>\n",
       "      <td>straw praises kashmir moves the uk has welcome...</td>\n",
       "      <td>politics</td>\n",
       "    </tr>\n",
       "    <tr>\n",
       "      <th>1</th>\n",
       "      <td>parties build up poll war chests the labour pa...</td>\n",
       "      <td>politics</td>\n",
       "    </tr>\n",
       "    <tr>\n",
       "      <th>2</th>\n",
       "      <td>wales  must learn health lessons  the new heal...</td>\n",
       "      <td>politics</td>\n",
       "    </tr>\n",
       "    <tr>\n",
       "      <th>3</th>\n",
       "      <td>hague  given up  his pm ambition former conser...</td>\n",
       "      <td>politics</td>\n",
       "    </tr>\n",
       "    <tr>\n",
       "      <th>4</th>\n",
       "      <td>tories urge  change at the top  tory delegates...</td>\n",
       "      <td>politics</td>\n",
       "    </tr>\n",
       "  </tbody>\n",
       "</table>\n",
       "</div>"
      ],
      "text/plain": [
       "                                                TEXT  CATEGORY\n",
       "0  straw praises kashmir moves the uk has welcome...  politics\n",
       "1  parties build up poll war chests the labour pa...  politics\n",
       "2  wales  must learn health lessons  the new heal...  politics\n",
       "3  hague  given up  his pm ambition former conser...  politics\n",
       "4  tories urge  change at the top  tory delegates...  politics"
      ]
     },
     "execution_count": 11,
     "metadata": {},
     "output_type": "execute_result"
    }
   ],
   "source": [
    "politics=r\".\\dataset\\politics\"\n",
    "files=sorted(glob.glob(os.path.join(politics,\"*.txt\")))\n",
    "politics_text_corpus=[]\n",
    "for p in files:\n",
    "    with open(p,encoding='utf-8') as f:\n",
    "     \n",
    "        politics_text_corpus.append(f.read().replace('\\n',' ').replace(',',''))\n",
    "jointext=' '.join(politics_text_corpus)\n",
    "\n",
    "politics=pd.DataFrame(columns=[\"TEXT\",\"CATEGORY\"],index=np.arange(len(politics_text_corpus)))\n",
    "\n",
    "for i in range(0,len(politics_text_corpus)):\n",
    "    politics[\"CATEGORY\"][i]=\"politics\"\n",
    "    politics[\"TEXT\"][i]=politics_text_corpus[i]\n",
    "    \n",
    "politics.head()"
   ]
  },
  {
   "cell_type": "markdown",
   "metadata": {},
   "source": [
    "### Combine all dataframes"
   ]
  },
  {
   "cell_type": "code",
   "execution_count": 12,
   "metadata": {},
   "outputs": [],
   "source": [
    "combine_text = [business,politics,entertainment,technology,sports]"
   ]
  },
  {
   "cell_type": "code",
   "execution_count": 13,
   "metadata": {},
   "outputs": [],
   "source": [
    "classification_text = pd.concat(combine_text)"
   ]
  },
  {
   "cell_type": "markdown",
   "metadata": {},
   "source": [
    "### Total number of examples"
   ]
  },
  {
   "cell_type": "code",
   "execution_count": 14,
   "metadata": {},
   "outputs": [
    {
     "data": {
      "text/plain": [
       "30"
      ]
     },
     "execution_count": 14,
     "metadata": {},
     "output_type": "execute_result"
    }
   ],
   "source": [
    "len(classification_text)"
   ]
  },
  {
   "cell_type": "code",
   "execution_count": 15,
   "metadata": {},
   "outputs": [
    {
     "data": {
      "text/html": [
       "<div>\n",
       "<style scoped>\n",
       "    .dataframe tbody tr th:only-of-type {\n",
       "        vertical-align: middle;\n",
       "    }\n",
       "\n",
       "    .dataframe tbody tr th {\n",
       "        vertical-align: top;\n",
       "    }\n",
       "\n",
       "    .dataframe thead th {\n",
       "        text-align: right;\n",
       "    }\n",
       "</style>\n",
       "<table border=\"1\" class=\"dataframe\">\n",
       "  <thead>\n",
       "    <tr style=\"text-align: right;\">\n",
       "      <th></th>\n",
       "      <th>TEXT</th>\n",
       "      <th>CATEGORY</th>\n",
       "    </tr>\n",
       "  </thead>\n",
       "  <tbody>\n",
       "    <tr>\n",
       "      <th>1</th>\n",
       "      <td>parry firm over gerrard listen to the full int...</td>\n",
       "      <td>sports</td>\n",
       "    </tr>\n",
       "    <tr>\n",
       "      <th>2</th>\n",
       "      <td>england given tough sevens draw england will h...</td>\n",
       "      <td>sports</td>\n",
       "    </tr>\n",
       "    <tr>\n",
       "      <th>3</th>\n",
       "      <td>newcastle 27-27 gloucester newcastle centre ma...</td>\n",
       "      <td>sports</td>\n",
       "    </tr>\n",
       "    <tr>\n",
       "      <th>4</th>\n",
       "      <td>qpr keeper day heads for preston queens park r...</td>\n",
       "      <td>sports</td>\n",
       "    </tr>\n",
       "    <tr>\n",
       "      <th>5</th>\n",
       "      <td>murray returns to scotland fold euan murray ha...</td>\n",
       "      <td>sports</td>\n",
       "    </tr>\n",
       "  </tbody>\n",
       "</table>\n",
       "</div>"
      ],
      "text/plain": [
       "                                                TEXT CATEGORY\n",
       "1  parry firm over gerrard listen to the full int...   sports\n",
       "2  england given tough sevens draw england will h...   sports\n",
       "3  newcastle 27-27 gloucester newcastle centre ma...   sports\n",
       "4  qpr keeper day heads for preston queens park r...   sports\n",
       "5  murray returns to scotland fold euan murray ha...   sports"
      ]
     },
     "execution_count": 15,
     "metadata": {},
     "output_type": "execute_result"
    }
   ],
   "source": [
    "classification_text.tail()"
   ]
  },
  {
   "cell_type": "markdown",
   "metadata": {},
   "source": [
    "## Step 03: Split into Train and Test Datasets"
   ]
  },
  {
   "cell_type": "code",
   "execution_count": 16,
   "metadata": {},
   "outputs": [],
   "source": [
    "from sklearn.model_selection import train_test_split\n",
    "X = classification_text.TEXT\n",
    "y = classification_text.CATEGORY"
   ]
  },
  {
   "cell_type": "code",
   "execution_count": 17,
   "metadata": {},
   "outputs": [],
   "source": [
    "X_train, X_test, y_train, y_test = train_test_split(X, y, test_size=0.33, random_state=42)"
   ]
  },
  {
   "cell_type": "code",
   "execution_count": 18,
   "metadata": {},
   "outputs": [
    {
     "name": "stdout",
     "output_type": "stream",
     "text": [
      "We have 20 training samples\n",
      "We have 10 test samples\n"
     ]
    }
   ],
   "source": [
    "print(\"We have {} training samples\".format(len(X_train)))\n",
    "print(\"We have {} test samples\".format(len(X_test)))"
   ]
  },
  {
   "cell_type": "markdown",
   "metadata": {},
   "source": [
    "## Step 04: Apply Count Vectorizer on the text data"
   ]
  },
  {
   "cell_type": "code",
   "execution_count": 19,
   "metadata": {},
   "outputs": [],
   "source": [
    "from sklearn.feature_extraction.text import CountVectorizer\n",
    "from sklearn.naive_bayes import MultinomialNB\n",
    "\n",
    "#Create the DTM first\n",
    "cv=CountVectorizer(stop_words='english')\n",
    "train_dtm=cv.fit_transform(X_train)\n",
    "test_dtm=cv.transform(X_test)\n",
    "\n"
   ]
  },
  {
   "cell_type": "markdown",
   "metadata": {},
   "source": [
    "## Step 05: Training on Naive Bayes Classifier"
   ]
  },
  {
   "cell_type": "code",
   "execution_count": 20,
   "metadata": {},
   "outputs": [],
   "source": [
    "#Fit the model\n",
    "nb=MultinomialNB()\n",
    "nb=nb.fit(train_dtm,y_train)"
   ]
  },
  {
   "cell_type": "markdown",
   "metadata": {},
   "source": [
    "## Step 06: Testing on Trained Model"
   ]
  },
  {
   "cell_type": "code",
   "execution_count": 22,
   "metadata": {},
   "outputs": [],
   "source": [
    "#predict\n",
    "predicted=nb.predict(test_dtm)\n",
    "score=nb.score(test_dtm,y_test)\n"
   ]
  },
  {
   "cell_type": "markdown",
   "metadata": {},
   "source": [
    "## Step 07: Evaluation Measures"
   ]
  },
  {
   "cell_type": "code",
   "execution_count": 23,
   "metadata": {},
   "outputs": [
    {
     "name": "stdout",
     "output_type": "stream",
     "text": [
      "Accuracy of Naive Bayes :\n",
      "80.0\n"
     ]
    }
   ],
   "source": [
    "print('Accuracy of Naive Bayes :')\n",
    "print(score*100.0)"
   ]
  },
  {
   "cell_type": "markdown",
   "metadata": {},
   "source": [
    "### Plot Classification Report"
   ]
  },
  {
   "cell_type": "code",
   "execution_count": 24,
   "metadata": {},
   "outputs": [
    {
     "name": "stdout",
     "output_type": "stream",
     "text": [
      "               precision    recall  f1-score   support\n",
      "\n",
      "     business       1.00      1.00      1.00         1\n",
      "     politics       1.00      0.33      0.50         3\n",
      "entertainment       1.00      1.00      1.00         2\n",
      "   technology       0.60      1.00      0.75         3\n",
      "       sports       1.00      1.00      1.00         1\n",
      "\n",
      "     accuracy                           0.80        10\n",
      "    macro avg       0.92      0.87      0.85        10\n",
      " weighted avg       0.88      0.80      0.78        10\n",
      "\n"
     ]
    }
   ],
   "source": [
    "from sklearn import metrics\n",
    "print(metrics.classification_report(y_test, predicted, target_names=classification_text['CATEGORY'].unique()))"
   ]
  },
  {
   "cell_type": "markdown",
   "metadata": {},
   "source": [
    "### Plot Confusion Matrix"
   ]
  },
  {
   "cell_type": "code",
   "execution_count": 25,
   "metadata": {},
   "outputs": [
    {
     "data": {
      "image/png": "[encoded data removed]",
      "text/plain": [
       "<Figure size 720x720 with 2 Axes>"
      ]
     },
     "metadata": {
      "needs_background": "light"
     },
     "output_type": "display_data"
    }
   ],
   "source": [
    "conf_mat = confusion_matrix(y_test, predicted)\n",
    "fig, ax = plt.subplots(figsize=(10,10))\n",
    "sns.heatmap(conf_mat, annot=True, fmt='d',\n",
    "            xticklabels=classification_text.CATEGORY.unique(), yticklabels=classification_text.CATEGORY.unique())\n",
    "plt.ylabel('Actual')\n",
    "plt.xlabel('Predicted')\n",
    "plt.show()"
   ]
  }
 ],
 "metadata": {
  "kernelspec": {
   "display_name": "Python 3",
   "language": "python",
   "name": "python3"
  },
  "language_info": {
   "codemirror_mode": {
    "name": "ipython",
    "version": 3
   },
   "file_extension": ".py",
   "mimetype": "text/x-python",
   "name": "python",
   "nbconvert_exporter": "python",
   "pygments_lexer": "ipython3",
   "version": "3.7.3"
  }
 },
 "nbformat": 4,
 "nbformat_minor": 2
}
